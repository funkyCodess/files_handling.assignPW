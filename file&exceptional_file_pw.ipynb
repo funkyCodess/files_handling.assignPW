{
  "nbformat": 4,
  "nbformat_minor": 0,
  "metadata": {
    "colab": {
      "provenance": []
    },
    "kernelspec": {
      "name": "python3",
      "display_name": "Python 3"
    },
    "language_info": {
      "name": "python"
    }
  },
  "cells": [
    {
      "cell_type": "markdown",
      "source": [
        "# Files, exceptional handling, logging and memory management Questions"
      ],
      "metadata": {
        "id": "I_pGv734O1-p"
      }
    },
    {
      "cell_type": "markdown",
      "source": [
        "1. What is the difference between interpreted and compiled languages?\n",
        "\n",
        "  - Difference Between Interpreted and Compiled Languages\n",
        "\n",
        "- Execution:\n",
        "\n",
        "Interpreted: Code is executed line by line using an interpreter.\n",
        "\n",
        "Compiled: Code is translated into machine code by a compiler before execution.\n",
        "\n",
        "  - Speed:\n",
        "\n",
        "Interpreted: Slower, as each line is translated and executed during runtime.\n",
        "\n",
        "Compiled: Faster, as the program is precompiled into machine code.\n",
        "\n",
        "  - Portability:\n",
        "\n",
        "Interpreted: Highly portable, as the source code can run on any system with the appropriate interpreter.\n",
        "\n",
        "Compiled: Less portable; the compiled code is platform-specific.\n",
        "\n",
        "  - Error Detection:\n",
        "\n",
        "Interpreted: Errors are detected at runtime when the specific line is executed.\n",
        "\n",
        "Compiled: Errors are detected during the compilation process.\n",
        "\n",
        "  - Use Case:\n",
        "\n",
        "Interpreted: Used for scripting and dynamic applications (e.g., Python, JavaScript).\n",
        "\n",
        "Compiled: Used for performance-critical applications (e.g., C, C++).\n",
        "\n",
        "  - Output:\n",
        "\n",
        "Interpreted: No separate machine code is generated; the interpreter handles execution.\n",
        "\n",
        "Compiled: Generates an executable file (e.g., .exe or .out) that can be run directly.\n",
        "\n",
        "  - Examples:\n",
        "\n",
        "Interpreted: Python, Ruby, JavaScript.\n",
        "\n",
        "Compiled: C, C++, Rust.\n"
      ],
      "metadata": {
        "id": "XQb1L7RqPTUw"
      }
    },
    {
      "cell_type": "markdown",
      "source": [
        "2. What is exception handling in Python?\n",
        "\n",
        "  - Exception handling is a mechanism in Python to handle runtime errors gracefully and maintain program flow.\n",
        "\n",
        "   **Key Components:**\n",
        "\n",
        "- try: Contains the code that may raise an exception.\n",
        "\n",
        "- except: Handles specific exceptions or a general exception.\n",
        "\n",
        "- else: Executes if no exceptions occur in the try block.\n",
        "\n",
        "- finally: Executes regardless of whether an exception occurred or not.\n",
        "\n",
        " - Example:"
      ],
      "metadata": {
        "id": "BqRALViI7q_1"
      }
    },
    {
      "cell_type": "code",
      "execution_count": null,
      "metadata": {
        "id": "UB11BkVnOo_I",
        "colab": {
          "base_uri": "https://localhost:8080/"
        },
        "outputId": "846b9f40-5f20-4bad-8a56-6dc88d51af94"
      },
      "outputs": [
        {
          "output_type": "stream",
          "name": "stdout",
          "text": [
            "Enter a number: 40\n",
            "0.25\n",
            "No exceptions occurred!\n",
            "Execution complete.\n"
          ]
        }
      ],
      "source": [
        "try:\n",
        "    num = int(input(\"Enter a number: \"))\n",
        "    print(10 / num)\n",
        "except ZeroDivisionError:\n",
        "    print(\"Cannot divide by zero.\")\n",
        "except ValueError:\n",
        "    print(\"Invalid input. Please enter a number.\")\n",
        "else:\n",
        "    print(\"No exceptions occurred!\")\n",
        "finally:\n",
        "    print(\"Execution complete.\")\n"
      ]
    },
    {
      "cell_type": "markdown",
      "source": [
        "3. What is the purpose of the finally block in exception handling?\n",
        "\n",
        "  - The finally block is used to execute cleanup actions or important code, regardless of whether an exception occurred or not. It is useful for closing resources, like files or network connections.\n",
        "\n",
        "Example:"
      ],
      "metadata": {
        "id": "Q8JE285P_kjQ"
      }
    },
    {
      "cell_type": "code",
      "source": [
        "try:\n",
        "    f = open(\"example.txt\", \"r\")\n",
        "    print(f.read())\n",
        "except FileNotFoundError:\n",
        "    print(\"File not found!\")\n",
        "finally:\n",
        "    print(\"Closing the file...\")\n"
      ],
      "metadata": {
        "colab": {
          "base_uri": "https://localhost:8080/"
        },
        "id": "62LQAAhp8LnP",
        "outputId": "a03e4182-db3a-4e99-f2d3-f161fcad04a2"
      },
      "execution_count": null,
      "outputs": [
        {
          "output_type": "stream",
          "name": "stdout",
          "text": [
            "File not found!\n",
            "Closing the file...\n"
          ]
        }
      ]
    },
    {
      "cell_type": "markdown",
      "source": [
        "4.  What is logging in Python?\n",
        "\n",
        "  - Logging in Python is a built-in module that provides a flexible framework for recording debug, information, warning, error, and critical messages in applications. It is essential for debugging, monitoring, and auditing applications.\n",
        "\n",
        "**Key Features:**\n",
        "\n",
        "- Customizable logging levels: DEBUG, INFO, WARNING, ERROR, and CRITICAL.\n",
        "- Can log messages to files or streams (e.g., console).\n",
        "- Supports formatting for log messages.\n",
        "\n",
        "Example:"
      ],
      "metadata": {
        "id": "bPhedaByANuJ"
      }
    },
    {
      "cell_type": "code",
      "source": [
        "import logging\n",
        "\n",
        "# Configure logging\n",
        "logging.basicConfig(level=logging.INFO, format='%(asctime)s - %(levelname)s - %(message)s')\n",
        "\n",
        "# Log messages\n",
        "logging.debug(\"This is a debug message.\")\n",
        "logging.info(\"This is an info message.\")\n",
        "logging.warning(\"This is a warning message.\")\n",
        "logging.error(\"This is an error message.\")\n",
        "logging.critical(\"This is a critical message.\")\n"
      ],
      "metadata": {
        "id": "o_E6DYisAKdE"
      },
      "execution_count": null,
      "outputs": []
    },
    {
      "cell_type": "markdown",
      "source": [
        "5. What is the significance of the __del__ method in Python?\n",
        "\n",
        "  - The __del__ method is a special method (destructor) in Python, called when an object is about to be destroyed. It is typically used to release resources like closing files or network connections.\n",
        "\n",
        "Example:  "
      ],
      "metadata": {
        "id": "PGmzUJ31BH-a"
      }
    },
    {
      "cell_type": "code",
      "source": [
        "class FileHandler:\n",
        "    def __init__(self, file_name):\n",
        "        self.file = open(file_name, 'w')\n",
        "        print(\"File opened.\")\n",
        "\n",
        "    def __del__(self):\n",
        "        self.file.close()\n",
        "        print(\"File closed.\")\n",
        "\n",
        "# Create an object\n",
        "handler = FileHandler(\"example.txt\")\n",
        "\n",
        "# Delete the object\n",
        "del handler\n",
        "\n"
      ],
      "metadata": {
        "colab": {
          "base_uri": "https://localhost:8080/"
        },
        "id": "zRrFrb8pBvip",
        "outputId": "09b89048-6477-4f6c-a863-0df1a8d00f66"
      },
      "execution_count": null,
      "outputs": [
        {
          "output_type": "stream",
          "name": "stdout",
          "text": [
            "File opened.\n",
            "File closed.\n"
          ]
        }
      ]
    },
    {
      "cell_type": "markdown",
      "source": [
        "6. What is the difference between import and from ... import in Python?\n",
        "\n",
        "  -"
      ],
      "metadata": {
        "id": "GFkPNpoDIn2Z"
      }
    },
    {
      "cell_type": "markdown",
      "source": [
        "7.  How can you handle multiple exceptions in Python?\n",
        "\n",
        "  - in python, we can handle multiple exceptions using:\n",
        "\n",
        "  1.Multiple except Blocks:"
      ],
      "metadata": {
        "id": "J5ijfKmqabsJ"
      }
    },
    {
      "cell_type": "code",
      "source": [
        "try:\n",
        "    # Code that may raise exceptions\n",
        "except ValueError:\n",
        "    print(\"ValueError occurred.\")\n",
        "except TypeError:\n",
        "    print(\"TypeError occurred.\")\n"
      ],
      "metadata": {
        "id": "qVvqKGXkB07r",
        "colab": {
          "base_uri": "https://localhost:8080/",
          "height": 106
        },
        "outputId": "eb30558c-ad85-45bd-94e8-fac8b2fb89f5"
      },
      "execution_count": 2,
      "outputs": [
        {
          "output_type": "error",
          "ename": "IndentationError",
          "evalue": "expected an indented block after 'try' statement on line 1 (<ipython-input-2-a5b99d992109>, line 3)",
          "traceback": [
            "\u001b[0;36m  File \u001b[0;32m\"<ipython-input-2-a5b99d992109>\"\u001b[0;36m, line \u001b[0;32m3\u001b[0m\n\u001b[0;31m    except ValueError:\u001b[0m\n\u001b[0m    ^\u001b[0m\n\u001b[0;31mIndentationError\u001b[0m\u001b[0;31m:\u001b[0m expected an indented block after 'try' statement on line 1\n"
          ]
        }
      ]
    },
    {
      "cell_type": "markdown",
      "source": [
        "2. Single except Block with a Tuple:\n"
      ],
      "metadata": {
        "id": "RRkLbCIZa-pz"
      }
    },
    {
      "cell_type": "code",
      "source": [
        "try:\n",
        "    # Code that may raise exceptions\n",
        "except (ValueError, TypeError) as e:\n",
        "    print(f\"Exception occurred: {e}\")\n"
      ],
      "metadata": {
        "id": "gvFgqPNbbJSq"
      },
      "execution_count": null,
      "outputs": []
    },
    {
      "cell_type": "markdown",
      "source": [
        "8. Purpose of the with Statement When Handling Files in Python?\n",
        "\n",
        "  -The with statement ensures proper acquisition and release of resources. It:\n",
        "\n",
        "- Automatically closes the file after the block is executed, even if exceptions occur.\n",
        "\n",
        "- Simplifies file handling by avoiding the need for manual close() calls.\n",
        "\n",
        "Example:\n",
        "\n"
      ],
      "metadata": {
        "id": "ZfxA7GpUbeFc"
      }
    },
    {
      "cell_type": "code",
      "source": [
        "with open(\"file.txt\", \"r\") as file:\n",
        "    data = file.read()\n",
        "# File is automatically closed here.\n"
      ],
      "metadata": {
        "id": "1hOC27gIb-nv"
      },
      "execution_count": null,
      "outputs": []
    },
    {
      "cell_type": "markdown",
      "source": [
        "9. Difference Between Multithreading and Multiprocessing?\n",
        "\n",
        "  -"
      ],
      "metadata": {
        "id": "gfEhkk7dcX_w"
      }
    },
    {
      "cell_type": "markdown",
      "source": [
        "10. What are the advantages of using logging in a program?\n",
        "\n",
        "  -  Advantages of Using Logging in a Program:\n",
        "\n",
        "- Tracks events during execution for debugging and monitoring.\n",
        "\n",
        "- Stores error and status information for future analysis.\n",
        "\n",
        "- Provides configurable levels (e.g., DEBUG, INFO, WARNING, ERROR).\n",
        "\n",
        "Example:\n"
      ],
      "metadata": {
        "id": "QiaeRSzfcjwu"
      }
    },
    {
      "cell_type": "code",
      "source": [
        "import logging\n",
        "logging.basicConfig(level=logging.INFO)\n",
        "logging.info(\"This is an informational message.\")\n"
      ],
      "metadata": {
        "id": "pUbZMympc2je"
      },
      "execution_count": null,
      "outputs": []
    },
    {
      "cell_type": "markdown",
      "source": [
        "11. What is memory management in Python?\n",
        "\n",
        "  - Python's memory management involves:\n",
        "\n",
        "- Automatic Garbage Collection: Reclaims unused memory.\n",
        "\n",
        "- Reference Counting: Tracks the number of references to an object.\n",
        "\n",
        "- Dynamic Memory Allocation: Allocates memory automatically when creating objects.\n",
        "\n",
        "- Modules like gc allow manual control over garbage collection.\n",
        "\n"
      ],
      "metadata": {
        "id": "fJzXgOvXdjFq"
      }
    },
    {
      "cell_type": "markdown",
      "source": [
        "12. What are the basic steps involved in exception handling in Python?\n",
        "\n",
        "  - Basic Steps in Exception Handling in Python:\n",
        "\n",
        "- Try Block: Encapsulates code that may raise exceptions.\n",
        "\n",
        "- Except Block: Handles specific exceptions.\n",
        "\n",
        "- Else Block: Executes if no exceptions occur.\n",
        "\n",
        "- Finally Block: Executes cleanup code, regardless of exceptions."
      ],
      "metadata": {
        "id": "YM9QZQfmeaAD"
      }
    },
    {
      "cell_type": "code",
      "source": [
        "try:\n",
        "    risky_code()\n",
        "except Exception as e:\n",
        "    handle_exception(e)\n",
        "else:\n",
        "    success_operations()\n",
        "finally:\n",
        "    cleanup()\n"
      ],
      "metadata": {
        "id": "u12Ve1Oweriq"
      },
      "execution_count": null,
      "outputs": []
    },
    {
      "cell_type": "markdown",
      "source": [
        "13.  Why is Memory Management Important in Python?\n",
        "\n",
        "- Prevents memory leaks.\n",
        "\n",
        "- Ensures efficient use of memory resources.\n",
        "\n",
        "- Maintains program stability and performance."
      ],
      "metadata": {
        "id": "6olmYA3ve40K"
      }
    },
    {
      "cell_type": "markdown",
      "source": [
        "14. What is the role of try and except in exception handling?\n",
        "\n",
        "- try Block: Encapsulates code that might raise exceptions.\n",
        "\n",
        "- except Block: Catches and handles specific exceptions, preventing program crashes."
      ],
      "metadata": {
        "id": "sXFxaqKMfY4N"
      }
    },
    {
      "cell_type": "markdown",
      "source": [
        "15. How does Python's garbage collection system work?\n",
        "\n",
        "- Python's garbage collector:\n",
        "\n",
        "- Uses reference counting to track object usage.\n",
        "\n",
        "- Detects cyclic references with a cyclic garbage collector.\n",
        "\n",
        "- Can be controlled using the gc module to trigger or disable garbage collection manually."
      ],
      "metadata": {
        "id": "R8C1zl0sf7ta"
      }
    },
    {
      "cell_type": "markdown",
      "source": [
        "16. What is the purpose of the else block in exception handling?\n",
        "\n",
        "- The else block is executed only if no exceptions are raised in the try block.\n",
        "\n",
        "- It is typically used for code that should run after the try block succeeds.\n",
        "\n",
        "Example"
      ],
      "metadata": {
        "id": "fzopYHlDktPh"
      }
    },
    {
      "cell_type": "code",
      "source": [
        "try:\n",
        "    result = 10 / 2\n",
        "except ZeroDivisionError:\n",
        "    print(\"Cannot divide by zero.\")\n",
        "else:\n",
        "    print(\"Division succeeded:\", result)\n"
      ],
      "metadata": {
        "id": "i58FEpwXf6w2"
      },
      "execution_count": null,
      "outputs": []
    },
    {
      "cell_type": "markdown",
      "source": [
        "17. . Common Logging Levels in Python\n",
        "\n",
        "  - Python's logging module defines the following levels (in increasing severity):\n",
        "\n",
        "- DEBUG: Detailed information, useful during debugging.\n",
        "\n",
        "- INFO: Confirmation that things are working as expected.\n",
        "\n",
        "- WARNING: An indication of something unexpected, but the program continues.\n",
        "\n",
        "- ERROR: A more serious issue that causes part of the program to fail.\n",
        "\n",
        "- CRITICAL: A severe error that may prevent the program from running.\n"
      ],
      "metadata": {
        "id": "6MxL2K48ljYA"
      }
    },
    {
      "cell_type": "markdown",
      "source": [
        "18. What is the difference between os.fork() and multiprocessing in Python?"
      ],
      "metadata": {
        "id": "h-O84CqIl1yA"
      }
    },
    {
      "cell_type": "markdown",
      "source": [
        "19. Importance of Closing a File in Python:\n",
        "\n",
        "- Ensures that changes to the file are written and saved.\n",
        "\n",
        "- Releases the file resource, preventing file locks or memory leaks.\n",
        "\n",
        "- Automatically handled when using the with statement."
      ],
      "metadata": {
        "id": "GbyvqVJel5Z1"
      }
    },
    {
      "cell_type": "markdown",
      "source": [
        "20. What is the difference between file.read() and file.readline() in Python?\n",
        "\n",
        "  - Read:\n",
        "- file.read() - Entire file content as a single string (or specified bytes).\n",
        "- file.readline() - A single line from the file.\n",
        "\n",
        "  - Usage:\n",
        "- file.read() - Useful for processing full file data.\n",
        "- file.readline() - Useful for line-by-line processing.\n",
        "\n",
        "  - Example-\n",
        "- file.read() - data = file.read()\n",
        "- file.readline() - line = file.readline()"
      ],
      "metadata": {
        "id": "Lq6YTJ6kmGuk"
      }
    },
    {
      "cell_type": "markdown",
      "source": [
        "21. What is the logging module in Python used for?\n",
        "\n",
        "- Provides tools to record messages during a program's execution.\n",
        "\n",
        "- Used for debugging, error tracking, and system monitoring.\n",
        "\n",
        "- Allows developers to log messages at different levels (DEBUG, INFO, etc.).\n"
      ],
      "metadata": {
        "id": "AGXZsSDGpiEy"
      }
    },
    {
      "cell_type": "markdown",
      "source": [
        "22. What is the os module in Python used for in file handling?\n",
        "\n",
        "  -Provides tools for interacting with the file system.\n",
        "\n",
        "- Common file-handling features:\n",
        "\n",
        "- Create or remove files (os.remove, os.rmdir).\n",
        "\n",
        "- Check file existence (os.path.exists).\n",
        "\n",
        "- Work with directories (os.listdir, os.mkdir).\n",
        "\n",
        "- Get file properties (os.stat).\n"
      ],
      "metadata": {
        "id": "2FVqIrXBpvV0"
      }
    },
    {
      "cell_type": "markdown",
      "source": [
        "23. Challenges Associated with Memory Management in Python:\n",
        "\n",
        "- Garbage Collection Overhead: Cyclic garbage collection may cause delays.\n",
        "\n",
        "- Memory Fragmentation: May occur due to frequent allocations and deallocations.\n",
        "\n",
        "- Global Interpreter Lock (GIL): Limits memory use efficiency in multi-threaded programs.\n",
        "\n",
        "- Handling Large Data: Requires careful memory optimization techniques.\n"
      ],
      "metadata": {
        "id": "fOtICNYqqrd5"
      }
    },
    {
      "cell_type": "markdown",
      "source": [
        "24. How to Raise an Exception Manually in Python?\n",
        "\n",
        "- Use the raise keyword with an exception type or custom exception.\n",
        "\n",
        "Example"
      ],
      "metadata": {
        "id": "_Cvqbpymq5KE"
      }
    },
    {
      "cell_type": "code",
      "source": [
        "if age < 18:\n",
        "    raise ValueError(\"Age must be 18 or older.\")\n"
      ],
      "metadata": {
        "id": "5YIyQlDPlwK0"
      },
      "execution_count": null,
      "outputs": []
    },
    {
      "cell_type": "markdown",
      "source": [
        "25.  Why Is Multithreading Important in Certain Applications?\n",
        "\n",
        "  - Improves performance for I/O-bound tasks by allowing concurrent operations.\n",
        "- Efficient for applications like:\n",
        "\n",
        "- Web scraping.\n",
        "\n",
        "- Network servers.\n",
        "\n",
        "- User-interface responsiveness.\n",
        "\n",
        "- Reduces idle time during I/O operations."
      ],
      "metadata": {
        "id": "tv2KMzGDrdMa"
      }
    },
    {
      "cell_type": "markdown",
      "source": [
        "# Practical Questions"
      ],
      "metadata": {
        "id": "kAsiQ6j7rvYA"
      }
    },
    {
      "cell_type": "code",
      "source": [
        "#1.  How to Open a File for Writing in Python and Write a String to It\n",
        "\n",
        "with open(\"output.txt\", \"w\") as file:\n",
        "    file.write(\"This is a test string.\")\n"
      ],
      "metadata": {
        "id": "h_Dk14odrsyQ"
      },
      "execution_count": 5,
      "outputs": []
    },
    {
      "cell_type": "code",
      "source": [
        "#2. Python Program to Read Contents of a File and Print Each Line\n",
        "\n",
        "with open(\"input.txt\", \"r\") as file:\n",
        "    for line in file:\n",
        "        print(line.strip())\n"
      ],
      "metadata": {
        "colab": {
          "base_uri": "https://localhost:8080/",
          "height": 211
        },
        "id": "kIu70v5t5L6R",
        "outputId": "ae104d18-3100-4a28-8611-68221fc86759"
      },
      "execution_count": 6,
      "outputs": [
        {
          "output_type": "error",
          "ename": "FileNotFoundError",
          "evalue": "[Errno 2] No such file or directory: 'input.txt'",
          "traceback": [
            "\u001b[0;31m---------------------------------------------------------------------------\u001b[0m",
            "\u001b[0;31mFileNotFoundError\u001b[0m                         Traceback (most recent call last)",
            "\u001b[0;32m<ipython-input-6-067130dc0c37>\u001b[0m in \u001b[0;36m<cell line: 3>\u001b[0;34m()\u001b[0m\n\u001b[1;32m      1\u001b[0m \u001b[0;31m#2. Python Program to Read Contents of a File and Print Each Line\u001b[0m\u001b[0;34m\u001b[0m\u001b[0;34m\u001b[0m\u001b[0m\n\u001b[1;32m      2\u001b[0m \u001b[0;34m\u001b[0m\u001b[0m\n\u001b[0;32m----> 3\u001b[0;31m \u001b[0;32mwith\u001b[0m \u001b[0mopen\u001b[0m\u001b[0;34m(\u001b[0m\u001b[0;34m\"input.txt\"\u001b[0m\u001b[0;34m,\u001b[0m \u001b[0;34m\"r\"\u001b[0m\u001b[0;34m)\u001b[0m \u001b[0;32mas\u001b[0m \u001b[0mfile\u001b[0m\u001b[0;34m:\u001b[0m\u001b[0;34m\u001b[0m\u001b[0;34m\u001b[0m\u001b[0m\n\u001b[0m\u001b[1;32m      4\u001b[0m     \u001b[0;32mfor\u001b[0m \u001b[0mline\u001b[0m \u001b[0;32min\u001b[0m \u001b[0mfile\u001b[0m\u001b[0;34m:\u001b[0m\u001b[0;34m\u001b[0m\u001b[0;34m\u001b[0m\u001b[0m\n\u001b[1;32m      5\u001b[0m         \u001b[0mprint\u001b[0m\u001b[0;34m(\u001b[0m\u001b[0mline\u001b[0m\u001b[0;34m.\u001b[0m\u001b[0mstrip\u001b[0m\u001b[0;34m(\u001b[0m\u001b[0;34m)\u001b[0m\u001b[0;34m)\u001b[0m\u001b[0;34m\u001b[0m\u001b[0;34m\u001b[0m\u001b[0m\n",
            "\u001b[0;31mFileNotFoundError\u001b[0m: [Errno 2] No such file or directory: 'input.txt'"
          ]
        }
      ]
    },
    {
      "cell_type": "code",
      "source": [
        "#3 How would you handle a case where the file doesn't exist while trying to open it for reading?\n",
        "\n",
        "try:\n",
        "    with open(\"nonexistent.txt\", \"r\") as file:\n",
        "        content = file.read()\n",
        "except FileNotFoundError:\n",
        "    print(\"File not found.\")\n"
      ],
      "metadata": {
        "colab": {
          "base_uri": "https://localhost:8080/"
        },
        "id": "PKoXUvv26T4-",
        "outputId": "65fc8184-8bb3-4061-88a9-d4b9626171e3"
      },
      "execution_count": 3,
      "outputs": [
        {
          "output_type": "stream",
          "name": "stdout",
          "text": [
            "File not found.\n"
          ]
        }
      ]
    },
    {
      "cell_type": "code",
      "source": [
        "#4 Write a Python script that reads from one file and writes its content to another file?\n",
        "\n",
        "with open(\"input.txt\", \"r\") as infile, open(\"output.txt\", \"w\") as outfile:\n",
        "    outfile.write(infile.read())\n"
      ],
      "metadata": {
        "colab": {
          "base_uri": "https://localhost:8080/",
          "height": 193
        },
        "id": "EbOpR7FQ79hW",
        "outputId": "c35f2fd5-8917-49b1-ee99-42e7e5ef5e8b"
      },
      "execution_count": 4,
      "outputs": [
        {
          "output_type": "error",
          "ename": "FileNotFoundError",
          "evalue": "[Errno 2] No such file or directory: 'input.txt'",
          "traceback": [
            "\u001b[0;31m---------------------------------------------------------------------------\u001b[0m",
            "\u001b[0;31mFileNotFoundError\u001b[0m                         Traceback (most recent call last)",
            "\u001b[0;32m<ipython-input-4-9ecfb5769f2f>\u001b[0m in \u001b[0;36m<cell line: 3>\u001b[0;34m()\u001b[0m\n\u001b[1;32m      1\u001b[0m \u001b[0;31m#4 Write a Python script that reads from one file and writes its content to another file?\u001b[0m\u001b[0;34m\u001b[0m\u001b[0;34m\u001b[0m\u001b[0m\n\u001b[1;32m      2\u001b[0m \u001b[0;34m\u001b[0m\u001b[0m\n\u001b[0;32m----> 3\u001b[0;31m \u001b[0;32mwith\u001b[0m \u001b[0mopen\u001b[0m\u001b[0;34m(\u001b[0m\u001b[0;34m\"input.txt\"\u001b[0m\u001b[0;34m,\u001b[0m \u001b[0;34m\"r\"\u001b[0m\u001b[0;34m)\u001b[0m \u001b[0;32mas\u001b[0m \u001b[0minfile\u001b[0m\u001b[0;34m,\u001b[0m \u001b[0mopen\u001b[0m\u001b[0;34m(\u001b[0m\u001b[0;34m\"output.txt\"\u001b[0m\u001b[0;34m,\u001b[0m \u001b[0;34m\"w\"\u001b[0m\u001b[0;34m)\u001b[0m \u001b[0;32mas\u001b[0m \u001b[0moutfile\u001b[0m\u001b[0;34m:\u001b[0m\u001b[0;34m\u001b[0m\u001b[0;34m\u001b[0m\u001b[0m\n\u001b[0m\u001b[1;32m      4\u001b[0m     \u001b[0moutfile\u001b[0m\u001b[0;34m.\u001b[0m\u001b[0mwrite\u001b[0m\u001b[0;34m(\u001b[0m\u001b[0minfile\u001b[0m\u001b[0;34m.\u001b[0m\u001b[0mread\u001b[0m\u001b[0;34m(\u001b[0m\u001b[0;34m)\u001b[0m\u001b[0;34m)\u001b[0m\u001b[0;34m\u001b[0m\u001b[0;34m\u001b[0m\u001b[0m\n",
            "\u001b[0;31mFileNotFoundError\u001b[0m: [Errno 2] No such file or directory: 'input.txt'"
          ]
        }
      ]
    },
    {
      "cell_type": "code",
      "source": [
        "# How would you catch and handle division by zero error in Python?\n",
        "\n",
        "try:\n",
        "    result = 10 / 0\n",
        "except ZeroDivisionError:\n",
        "    print(\"Division by zero is not allowed.\")\n"
      ],
      "metadata": {
        "colab": {
          "base_uri": "https://localhost:8080/"
        },
        "id": "TCFB8XDm8k-P",
        "outputId": "7df2d4f5-5a0e-41bd-e0c1-a686edacc3d5"
      },
      "execution_count": 7,
      "outputs": [
        {
          "output_type": "stream",
          "name": "stdout",
          "text": [
            "Division by zero is not allowed.\n"
          ]
        }
      ]
    },
    {
      "cell_type": "code",
      "source": [
        "#6 Write a Python program that logs an error message to a log file when a division by zero exception occurs?\n",
        "\n",
        "import logging\n",
        "\n",
        "logging.basicConfig(filename=\"error.log\", level=logging.ERROR)\n",
        "try:\n",
        "    result = 10 / 0\n",
        "except ZeroDivisionError as e:\n",
        "    logging.error(\"Division by zero occurred: %s\", e)\n"
      ],
      "metadata": {
        "colab": {
          "base_uri": "https://localhost:8080/"
        },
        "id": "HvHK8aAU9AaS",
        "outputId": "f82a7e3d-3023-43ea-d418-70f53febd166"
      },
      "execution_count": 8,
      "outputs": [
        {
          "output_type": "stream",
          "name": "stderr",
          "text": [
            "ERROR:root:Division by zero occurred: division by zero\n"
          ]
        }
      ]
    },
    {
      "cell_type": "code",
      "source": [
        "#7 How do you log information at different levels (INFO, ERROR, WARNING) in Python using the logging module?\n",
        "\n",
        "import logging\n",
        "\n",
        "logging.basicConfig(level=logging.DEBUG)\n",
        "logging.info(\"This is an INFO message.\")\n",
        "logging.warning(\"This is a WARNING message.\")\n",
        "logging.error(\"This is an ERROR message.\")\n"
      ],
      "metadata": {
        "colab": {
          "base_uri": "https://localhost:8080/"
        },
        "id": "ap9e_YY69JrO",
        "outputId": "b037b844-2584-4f33-df11-031e64a41ee9"
      },
      "execution_count": 9,
      "outputs": [
        {
          "output_type": "stream",
          "name": "stderr",
          "text": [
            "WARNING:root:This is a WARNING message.\n",
            "ERROR:root:This is an ERROR message.\n"
          ]
        }
      ]
    },
    {
      "cell_type": "code",
      "source": [
        "#8. Handle File Opening Error\n",
        "\n",
        "try:\n",
        "    with open(\"nonexistent.txt\", \"r\") as file:\n",
        "        content = file.read()\n",
        "except IOError:\n",
        "    print(\"Error opening file.\")\n"
      ],
      "metadata": {
        "colab": {
          "base_uri": "https://localhost:8080/"
        },
        "id": "mK7al3Xh9g4r",
        "outputId": "3f726898-e530-42ef-a5d6-88a30c15993a"
      },
      "execution_count": 10,
      "outputs": [
        {
          "output_type": "stream",
          "name": "stdout",
          "text": [
            "Error opening file.\n"
          ]
        }
      ]
    },
    {
      "cell_type": "code",
      "source": [
        "#9. Read a File Line by Line into a List\n",
        "with open(\"input.txt\", \"r\") as file:\n",
        "    lines = [line.strip() for line in file]\n"
      ],
      "metadata": {
        "colab": {
          "base_uri": "https://localhost:8080/",
          "height": 176
        },
        "id": "D32Id6-i9n30",
        "outputId": "d0b7f7b1-7bc1-46db-ffe9-fb2e2b6869ab"
      },
      "execution_count": 11,
      "outputs": [
        {
          "output_type": "error",
          "ename": "FileNotFoundError",
          "evalue": "[Errno 2] No such file or directory: 'input.txt'",
          "traceback": [
            "\u001b[0;31m---------------------------------------------------------------------------\u001b[0m",
            "\u001b[0;31mFileNotFoundError\u001b[0m                         Traceback (most recent call last)",
            "\u001b[0;32m<ipython-input-11-bbed4a797d39>\u001b[0m in \u001b[0;36m<cell line: 2>\u001b[0;34m()\u001b[0m\n\u001b[1;32m      1\u001b[0m \u001b[0;31m#9. Read a File Line by Line into a List\u001b[0m\u001b[0;34m\u001b[0m\u001b[0;34m\u001b[0m\u001b[0m\n\u001b[0;32m----> 2\u001b[0;31m \u001b[0;32mwith\u001b[0m \u001b[0mopen\u001b[0m\u001b[0;34m(\u001b[0m\u001b[0;34m\"input.txt\"\u001b[0m\u001b[0;34m,\u001b[0m \u001b[0;34m\"r\"\u001b[0m\u001b[0;34m)\u001b[0m \u001b[0;32mas\u001b[0m \u001b[0mfile\u001b[0m\u001b[0;34m:\u001b[0m\u001b[0;34m\u001b[0m\u001b[0;34m\u001b[0m\u001b[0m\n\u001b[0m\u001b[1;32m      3\u001b[0m     \u001b[0mlines\u001b[0m \u001b[0;34m=\u001b[0m \u001b[0;34m[\u001b[0m\u001b[0mline\u001b[0m\u001b[0;34m.\u001b[0m\u001b[0mstrip\u001b[0m\u001b[0;34m(\u001b[0m\u001b[0;34m)\u001b[0m \u001b[0;32mfor\u001b[0m \u001b[0mline\u001b[0m \u001b[0;32min\u001b[0m \u001b[0mfile\u001b[0m\u001b[0;34m]\u001b[0m\u001b[0;34m\u001b[0m\u001b[0;34m\u001b[0m\u001b[0m\n",
            "\u001b[0;31mFileNotFoundError\u001b[0m: [Errno 2] No such file or directory: 'input.txt'"
          ]
        }
      ]
    },
    {
      "cell_type": "code",
      "source": [
        "#10. Append Data to an Existing File\n",
        "\n",
        "with open(\"output.txt\", \"a\") as file:\n",
        "    file.write(\"Appending this line.\\n\")\n"
      ],
      "metadata": {
        "id": "iYwv6PfI92T3"
      },
      "execution_count": 12,
      "outputs": []
    },
    {
      "cell_type": "code",
      "source": [
        "#11. Handle Non-Existent Dictionary Key\n",
        "\n",
        "try:\n",
        "    my_dict = {\"a\": 1}\n",
        "    print(my_dict[\"b\"])\n",
        "except KeyError:\n",
        "    print(\"Key does not exist.\")\n"
      ],
      "metadata": {
        "colab": {
          "base_uri": "https://localhost:8080/"
        },
        "id": "OjGU_K9i-L3s",
        "outputId": "be3d47e9-50df-42dd-d141-5c4ba9cccaa8"
      },
      "execution_count": 13,
      "outputs": [
        {
          "output_type": "stream",
          "name": "stdout",
          "text": [
            "Key does not exist.\n"
          ]
        }
      ]
    },
    {
      "cell_type": "code",
      "source": [
        "# 12. Multiple Except Blocks\n",
        "\n",
        "try:\n",
        "    value = int(\"abc\")\n",
        "except ValueError:\n",
        "    print(\"ValueError occurred.\")\n",
        "except TypeError:\n",
        "    print(\"TypeError occurred.\")\n"
      ],
      "metadata": {
        "colab": {
          "base_uri": "https://localhost:8080/"
        },
        "id": "K1rpb7af-fH8",
        "outputId": "02a6f093-fe26-46d6-98a2-44896f2d5385"
      },
      "execution_count": 14,
      "outputs": [
        {
          "output_type": "stream",
          "name": "stdout",
          "text": [
            "ValueError occurred.\n"
          ]
        }
      ]
    },
    {
      "cell_type": "code",
      "source": [
        "#13. Check if File Exists Before Reading\n",
        "\n",
        "import os\n",
        "\n",
        "if os.path.exists(\"input.txt\"):\n",
        "    with open(\"input.txt\", \"r\") as file:\n",
        "        content = file.read()\n",
        "else:\n",
        "    print(\"File does not exist.\")\n"
      ],
      "metadata": {
        "colab": {
          "base_uri": "https://localhost:8080/"
        },
        "id": "4r9cfCBo-mat",
        "outputId": "5a20c9a8-19a9-42ba-bffe-dedf27b2efd7"
      },
      "execution_count": 15,
      "outputs": [
        {
          "output_type": "stream",
          "name": "stdout",
          "text": [
            "File does not exist.\n"
          ]
        }
      ]
    },
    {
      "cell_type": "code",
      "source": [
        "#14. Log Informational and Error Messages\n",
        "\n",
        "import logging\n",
        "\n",
        "logging.basicConfig(filename=\"app.log\", level=logging.INFO)\n",
        "logging.info(\"Informational message.\")\n",
        "logging.error(\"Error message.\")\n"
      ],
      "metadata": {
        "colab": {
          "base_uri": "https://localhost:8080/"
        },
        "id": "AKW1v6zF-uqr",
        "outputId": "89095abc-16e0-4e0f-fb91-f04fc1fcc5ef"
      },
      "execution_count": 16,
      "outputs": [
        {
          "output_type": "stream",
          "name": "stderr",
          "text": [
            "ERROR:root:Error message.\n"
          ]
        }
      ]
    },
    {
      "cell_type": "code",
      "source": [
        "#15. Handle Empty File Case\n",
        "\n",
        "if os.stat(\"file.txt\").st_size == 0:\n",
        "    print(\"The file is empty.\")\n",
        "else:\n",
        "    with open(\"file.txt\", \"r\") as file:\n",
        "        print(file.read())\n"
      ],
      "metadata": {
        "colab": {
          "base_uri": "https://localhost:8080/",
          "height": 211
        },
        "id": "pYNOkwdU-0_T",
        "outputId": "3a5e78e9-0c9b-4a27-962f-f54465f8bd36"
      },
      "execution_count": 17,
      "outputs": [
        {
          "output_type": "error",
          "ename": "FileNotFoundError",
          "evalue": "[Errno 2] No such file or directory: 'file.txt'",
          "traceback": [
            "\u001b[0;31m---------------------------------------------------------------------------\u001b[0m",
            "\u001b[0;31mFileNotFoundError\u001b[0m                         Traceback (most recent call last)",
            "\u001b[0;32m<ipython-input-17-4e3b643ddbe8>\u001b[0m in \u001b[0;36m<cell line: 3>\u001b[0;34m()\u001b[0m\n\u001b[1;32m      1\u001b[0m \u001b[0;31m#15. Handle Empty File Case\u001b[0m\u001b[0;34m\u001b[0m\u001b[0;34m\u001b[0m\u001b[0m\n\u001b[1;32m      2\u001b[0m \u001b[0;34m\u001b[0m\u001b[0m\n\u001b[0;32m----> 3\u001b[0;31m \u001b[0;32mif\u001b[0m \u001b[0mos\u001b[0m\u001b[0;34m.\u001b[0m\u001b[0mstat\u001b[0m\u001b[0;34m(\u001b[0m\u001b[0;34m\"file.txt\"\u001b[0m\u001b[0;34m)\u001b[0m\u001b[0;34m.\u001b[0m\u001b[0mst_size\u001b[0m \u001b[0;34m==\u001b[0m \u001b[0;36m0\u001b[0m\u001b[0;34m:\u001b[0m\u001b[0;34m\u001b[0m\u001b[0;34m\u001b[0m\u001b[0m\n\u001b[0m\u001b[1;32m      4\u001b[0m     \u001b[0mprint\u001b[0m\u001b[0;34m(\u001b[0m\u001b[0;34m\"The file is empty.\"\u001b[0m\u001b[0;34m)\u001b[0m\u001b[0;34m\u001b[0m\u001b[0;34m\u001b[0m\u001b[0m\n\u001b[1;32m      5\u001b[0m \u001b[0;32melse\u001b[0m\u001b[0;34m:\u001b[0m\u001b[0;34m\u001b[0m\u001b[0;34m\u001b[0m\u001b[0m\n",
            "\u001b[0;31mFileNotFoundError\u001b[0m: [Errno 2] No such file or directory: 'file.txt'"
          ]
        }
      ]
    },
    {
      "cell_type": "code",
      "source": [
        "#16 Demonstrate how to use memory profiling to check the memory usage of a small program.\n",
        "\n",
        "@profile\n",
        "def my_function():\n",
        "    data = [i for i in range(100000)]\n",
        "    return data\n"
      ],
      "metadata": {
        "colab": {
          "base_uri": "https://localhost:8080/",
          "height": 211
        },
        "id": "C6FJFD4q-8yG",
        "outputId": "8db613bd-68b7-4358-f467-cb010519dc78"
      },
      "execution_count": 18,
      "outputs": [
        {
          "output_type": "error",
          "ename": "NameError",
          "evalue": "name 'profile' is not defined",
          "traceback": [
            "\u001b[0;31m---------------------------------------------------------------------------\u001b[0m",
            "\u001b[0;31mNameError\u001b[0m                                 Traceback (most recent call last)",
            "\u001b[0;32m<ipython-input-18-627b1cd8ef18>\u001b[0m in \u001b[0;36m<cell line: 3>\u001b[0;34m()\u001b[0m\n\u001b[1;32m      1\u001b[0m \u001b[0;31m#16 Demonstrate how to use memory profiling to check the memory usage of a small program.\u001b[0m\u001b[0;34m\u001b[0m\u001b[0;34m\u001b[0m\u001b[0m\n\u001b[1;32m      2\u001b[0m \u001b[0;34m\u001b[0m\u001b[0m\n\u001b[0;32m----> 3\u001b[0;31m \u001b[0;34m@\u001b[0m\u001b[0mprofile\u001b[0m\u001b[0;34m\u001b[0m\u001b[0;34m\u001b[0m\u001b[0m\n\u001b[0m\u001b[1;32m      4\u001b[0m \u001b[0;32mdef\u001b[0m \u001b[0mmy_function\u001b[0m\u001b[0;34m(\u001b[0m\u001b[0;34m)\u001b[0m\u001b[0;34m:\u001b[0m\u001b[0;34m\u001b[0m\u001b[0;34m\u001b[0m\u001b[0m\n\u001b[1;32m      5\u001b[0m     \u001b[0mdata\u001b[0m \u001b[0;34m=\u001b[0m \u001b[0;34m[\u001b[0m\u001b[0mi\u001b[0m \u001b[0;32mfor\u001b[0m \u001b[0mi\u001b[0m \u001b[0;32min\u001b[0m \u001b[0mrange\u001b[0m\u001b[0;34m(\u001b[0m\u001b[0;36m100000\u001b[0m\u001b[0;34m)\u001b[0m\u001b[0;34m]\u001b[0m\u001b[0;34m\u001b[0m\u001b[0;34m\u001b[0m\u001b[0m\n",
            "\u001b[0;31mNameError\u001b[0m: name 'profile' is not defined"
          ]
        }
      ]
    },
    {
      "cell_type": "code",
      "source": [
        "#17.Write a Python program to create and write a list of numbers to a file, one number per line\n",
        "\n",
        "with open(\"numbers.txt\", \"w\") as file:\n",
        "    for i in range(1, 11):\n",
        "        file.write(f\"{i}\\n\")\n"
      ],
      "metadata": {
        "id": "OkmoheUQ_tfV"
      },
      "execution_count": null,
      "outputs": []
    },
    {
      "cell_type": "code",
      "source": [
        "#18.  How would you implement a basic logging setup that logs to a file with rotation after 1MB.\n",
        "\n",
        "from logging.handlers import RotatingFileHandler\n",
        "import logging\n",
        "\n",
        "handler = RotatingFileHandler(\"app.log\", maxBytes=1_000_000, backupCount=5)\n",
        "logging.basicConfig(handlers=[handler], level=logging.INFO)\n",
        "logging.info(\"This is a log message.\")\n",
        "\n"
      ],
      "metadata": {
        "id": "O3N3cQd6_5-y"
      },
      "execution_count": 19,
      "outputs": []
    },
    {
      "cell_type": "code",
      "source": [
        "#19. Write a program that handles both IndexError and KeyError using a try-except block.\n",
        "\n",
        "try:\n",
        "    lst = [1, 2, 3]\n",
        "    print(lst[5])\n",
        "except IndexError:\n",
        "    print(\"Index out of range.\")\n",
        "try:\n",
        "    my_dict = {\"a\": 1}\n",
        "    print(my_dict[\"b\"])\n",
        "except KeyError:\n",
        "    print(\"Key not found.\")\n"
      ],
      "metadata": {
        "colab": {
          "base_uri": "https://localhost:8080/"
        },
        "id": "k9yTMWFAAGCt",
        "outputId": "5b5a50d0-141a-4c2c-e519-e7495aa37747"
      },
      "execution_count": 20,
      "outputs": [
        {
          "output_type": "stream",
          "name": "stdout",
          "text": [
            "Index out of range.\n",
            "Key not found.\n"
          ]
        }
      ]
    },
    {
      "cell_type": "code",
      "source": [
        "#20. Context Manager to Read File\n",
        "\n",
        "with open(\"file.txt\", \"r\") as file:\n",
        "    content = file.read()\n"
      ],
      "metadata": {
        "colab": {
          "base_uri": "https://localhost:8080/",
          "height": 193
        },
        "id": "L2UmJ77RAP6L",
        "outputId": "908785a4-b004-40f4-9c41-451cd7988073"
      },
      "execution_count": 21,
      "outputs": [
        {
          "output_type": "error",
          "ename": "FileNotFoundError",
          "evalue": "[Errno 2] No such file or directory: 'file.txt'",
          "traceback": [
            "\u001b[0;31m---------------------------------------------------------------------------\u001b[0m",
            "\u001b[0;31mFileNotFoundError\u001b[0m                         Traceback (most recent call last)",
            "\u001b[0;32m<ipython-input-21-7f03f4e4c40f>\u001b[0m in \u001b[0;36m<cell line: 3>\u001b[0;34m()\u001b[0m\n\u001b[1;32m      1\u001b[0m \u001b[0;31m#20. Context Manager to Read File\u001b[0m\u001b[0;34m\u001b[0m\u001b[0;34m\u001b[0m\u001b[0m\n\u001b[1;32m      2\u001b[0m \u001b[0;34m\u001b[0m\u001b[0m\n\u001b[0;32m----> 3\u001b[0;31m \u001b[0;32mwith\u001b[0m \u001b[0mopen\u001b[0m\u001b[0;34m(\u001b[0m\u001b[0;34m\"file.txt\"\u001b[0m\u001b[0;34m,\u001b[0m \u001b[0;34m\"r\"\u001b[0m\u001b[0;34m)\u001b[0m \u001b[0;32mas\u001b[0m \u001b[0mfile\u001b[0m\u001b[0;34m:\u001b[0m\u001b[0;34m\u001b[0m\u001b[0;34m\u001b[0m\u001b[0m\n\u001b[0m\u001b[1;32m      4\u001b[0m     \u001b[0mcontent\u001b[0m \u001b[0;34m=\u001b[0m \u001b[0mfile\u001b[0m\u001b[0;34m.\u001b[0m\u001b[0mread\u001b[0m\u001b[0;34m(\u001b[0m\u001b[0;34m)\u001b[0m\u001b[0;34m\u001b[0m\u001b[0;34m\u001b[0m\u001b[0m\n",
            "\u001b[0;31mFileNotFoundError\u001b[0m: [Errno 2] No such file or directory: 'file.txt'"
          ]
        }
      ]
    },
    {
      "cell_type": "code",
      "source": [
        "#21. Count Word Occurrences in File\n",
        "\n",
        "with open(\"file.txt\", \"r\") as file:\n",
        "    content = file.read()\n",
        "print(content.count(\"word\"))\n"
      ],
      "metadata": {
        "colab": {
          "base_uri": "https://localhost:8080/",
          "height": 211
        },
        "id": "sonDzKPOAYTm",
        "outputId": "4022793e-b59c-4773-b9c5-261700ac98cc"
      },
      "execution_count": 22,
      "outputs": [
        {
          "output_type": "error",
          "ename": "FileNotFoundError",
          "evalue": "[Errno 2] No such file or directory: 'file.txt'",
          "traceback": [
            "\u001b[0;31m---------------------------------------------------------------------------\u001b[0m",
            "\u001b[0;31mFileNotFoundError\u001b[0m                         Traceback (most recent call last)",
            "\u001b[0;32m<ipython-input-22-2274cc1c3bf8>\u001b[0m in \u001b[0;36m<cell line: 3>\u001b[0;34m()\u001b[0m\n\u001b[1;32m      1\u001b[0m \u001b[0;31m#21. Count Word Occurrences in File\u001b[0m\u001b[0;34m\u001b[0m\u001b[0;34m\u001b[0m\u001b[0m\n\u001b[1;32m      2\u001b[0m \u001b[0;34m\u001b[0m\u001b[0m\n\u001b[0;32m----> 3\u001b[0;31m \u001b[0;32mwith\u001b[0m \u001b[0mopen\u001b[0m\u001b[0;34m(\u001b[0m\u001b[0;34m\"file.txt\"\u001b[0m\u001b[0;34m,\u001b[0m \u001b[0;34m\"r\"\u001b[0m\u001b[0;34m)\u001b[0m \u001b[0;32mas\u001b[0m \u001b[0mfile\u001b[0m\u001b[0;34m:\u001b[0m\u001b[0;34m\u001b[0m\u001b[0;34m\u001b[0m\u001b[0m\n\u001b[0m\u001b[1;32m      4\u001b[0m     \u001b[0mcontent\u001b[0m \u001b[0;34m=\u001b[0m \u001b[0mfile\u001b[0m\u001b[0;34m.\u001b[0m\u001b[0mread\u001b[0m\u001b[0;34m(\u001b[0m\u001b[0;34m)\u001b[0m\u001b[0;34m\u001b[0m\u001b[0;34m\u001b[0m\u001b[0m\n\u001b[1;32m      5\u001b[0m \u001b[0mprint\u001b[0m\u001b[0;34m(\u001b[0m\u001b[0mcontent\u001b[0m\u001b[0;34m.\u001b[0m\u001b[0mcount\u001b[0m\u001b[0;34m(\u001b[0m\u001b[0;34m\"word\"\u001b[0m\u001b[0;34m)\u001b[0m\u001b[0;34m)\u001b[0m\u001b[0;34m\u001b[0m\u001b[0;34m\u001b[0m\u001b[0m\n",
            "\u001b[0;31mFileNotFoundError\u001b[0m: [Errno 2] No such file or directory: 'file.txt'"
          ]
        }
      ]
    },
    {
      "cell_type": "code",
      "source": [
        "#22. How can you check if a file is empty before attempting to read its contents.\n",
        "\n",
        "if os.path.exists(\"file.txt\") and os.path.getsize(\"file.txt\") > 0:\n",
        "    with open(\"file.txt\", \"r\") as file:\n",
        "        print(file.read())\n",
        "else:\n",
        "    print(\"The file is empty.\")\n"
      ],
      "metadata": {
        "colab": {
          "base_uri": "https://localhost:8080/"
        },
        "id": "sgvyQ5MoAtGI",
        "outputId": "5ac1ef81-e4a7-4313-f71f-c3fed75a215c"
      },
      "execution_count": 23,
      "outputs": [
        {
          "output_type": "stream",
          "name": "stdout",
          "text": [
            "The file is empty.\n"
          ]
        }
      ]
    },
    {
      "cell_type": "code",
      "source": [
        "#23.Write a Python program that writes to a log file when an error occurs during file handling.\n",
        "\n",
        "import logging\n",
        "\n",
        "logging.basicConfig(filename=\"error.log\", level=logging.ERROR)\n",
        "try:\n",
        "    with open(\"nonexistent.txt\", \"r\") as file:\n",
        "        content = file.read()\n",
        "except FileNotFoundError as e:\n",
        "    logging.error(\"File error: %s\", e)\n"
      ],
      "metadata": {
        "colab": {
          "base_uri": "https://localhost:8080/"
        },
        "id": "gYqrPAufA9f0",
        "outputId": "98f42ef9-f2d4-4106-8d7e-d4ef22dedc6c"
      },
      "execution_count": 24,
      "outputs": [
        {
          "output_type": "stream",
          "name": "stderr",
          "text": [
            "ERROR:root:File error: [Errno 2] No such file or directory: 'nonexistent.txt'\n"
          ]
        }
      ]
    },
    {
      "cell_type": "code",
      "source": [],
      "metadata": {
        "id": "g4Zj1GSHBHyP"
      },
      "execution_count": null,
      "outputs": []
    }
  ]
}